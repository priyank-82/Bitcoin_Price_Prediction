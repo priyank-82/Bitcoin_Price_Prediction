{
  "nbformat": 4,
  "nbformat_minor": 0,
  "metadata": {
    "colab": {
      "name": "B20AI055_Bonus_Project.ipynb",
      "provenance": [],
      "collapsed_sections": []
    },
    "kernelspec": {
      "name": "python3",
      "display_name": "Python 3"
    },
    "language_info": {
      "name": "python"
    }
  },
  "cells": [
    {
      "cell_type": "markdown",
      "source": [
        "# Data Import"
      ],
      "metadata": {
        "id": "jgLMp8_dGmNc"
      }
    },
    {
      "cell_type": "code",
      "execution_count": 119,
      "metadata": {
        "id": "-Y1SYgiP94m1"
      },
      "outputs": [],
      "source": [
        "import pandas as pd\n",
        "import numpy as np\n",
        "import matplotlib.pyplot as plt\n",
        "import warnings\n",
        "from sklearn.preprocessing import MinMaxScaler\n",
        "from sklearn.model_selection import train_test_split\n",
        "from sklearn.metrics import r2_score\n",
        "from sklearn.metrics import mean_squared_error as mse\n",
        "from sklearn.metrics import mean_absolute_error as mae"
      ]
    },
    {
      "cell_type": "code",
      "source": [
        "df = pd.read_csv(\"/content/drive/MyDrive/dataset/bitcoin_price_bitcoin_price.2013Apr-2017Aug.csv\")\n",
        "df"
      ],
      "metadata": {
        "colab": {
          "base_uri": "https://localhost:8080/",
          "height": 423
        },
        "id": "pkVFTEZi-H1T",
        "outputId": "5f781805-3444-44fa-88c0-18bafc783dde"
      },
      "execution_count": 120,
      "outputs": [
        {
          "output_type": "execute_result",
          "data": {
            "text/plain": [
              "              Date     Open     High      Low    Close         Volume  \\\n",
              "0     Jul 31, 2017  2763.24  2889.62  2720.61  2875.34    860,575,000   \n",
              "1     Jul 30, 2017  2724.39  2758.53  2644.85  2757.18    705,943,000   \n",
              "2     Jul 29, 2017  2807.02  2808.76  2692.80  2726.45    803,746,000   \n",
              "3     Jul 28, 2017  2679.73  2897.45  2679.73  2809.01  1,380,100,000   \n",
              "4     Jul 27, 2017  2538.71  2693.32  2529.34  2671.78    789,104,000   \n",
              "...            ...      ...      ...      ...      ...            ...   \n",
              "1551  May 02, 2013   116.38   125.60    92.28   105.21              -   \n",
              "1552  May 01, 2013   139.00   139.89   107.72   116.99              -   \n",
              "1553  Apr 30, 2013   144.00   146.93   134.05   139.00              -   \n",
              "1554  Apr 29, 2013   134.44   147.49   134.00   144.54              -   \n",
              "1555  Apr 28, 2013   135.30   135.98   132.10   134.21              -   \n",
              "\n",
              "          Market Cap  \n",
              "0     45,535,800,000  \n",
              "1     44,890,700,000  \n",
              "2     46,246,700,000  \n",
              "3     44,144,400,000  \n",
              "4     41,816,500,000  \n",
              "...              ...  \n",
              "1551   1,292,190,000  \n",
              "1552   1,542,820,000  \n",
              "1553   1,597,780,000  \n",
              "1554   1,491,160,000  \n",
              "1555   1,500,520,000  \n",
              "\n",
              "[1556 rows x 7 columns]"
            ],
            "text/html": [
              "\n",
              "  <div id=\"df-73ad057b-7a27-4d5d-a7ed-195ebe5b9900\">\n",
              "    <div class=\"colab-df-container\">\n",
              "      <div>\n",
              "<style scoped>\n",
              "    .dataframe tbody tr th:only-of-type {\n",
              "        vertical-align: middle;\n",
              "    }\n",
              "\n",
              "    .dataframe tbody tr th {\n",
              "        vertical-align: top;\n",
              "    }\n",
              "\n",
              "    .dataframe thead th {\n",
              "        text-align: right;\n",
              "    }\n",
              "</style>\n",
              "<table border=\"1\" class=\"dataframe\">\n",
              "  <thead>\n",
              "    <tr style=\"text-align: right;\">\n",
              "      <th></th>\n",
              "      <th>Date</th>\n",
              "      <th>Open</th>\n",
              "      <th>High</th>\n",
              "      <th>Low</th>\n",
              "      <th>Close</th>\n",
              "      <th>Volume</th>\n",
              "      <th>Market Cap</th>\n",
              "    </tr>\n",
              "  </thead>\n",
              "  <tbody>\n",
              "    <tr>\n",
              "      <th>0</th>\n",
              "      <td>Jul 31, 2017</td>\n",
              "      <td>2763.24</td>\n",
              "      <td>2889.62</td>\n",
              "      <td>2720.61</td>\n",
              "      <td>2875.34</td>\n",
              "      <td>860,575,000</td>\n",
              "      <td>45,535,800,000</td>\n",
              "    </tr>\n",
              "    <tr>\n",
              "      <th>1</th>\n",
              "      <td>Jul 30, 2017</td>\n",
              "      <td>2724.39</td>\n",
              "      <td>2758.53</td>\n",
              "      <td>2644.85</td>\n",
              "      <td>2757.18</td>\n",
              "      <td>705,943,000</td>\n",
              "      <td>44,890,700,000</td>\n",
              "    </tr>\n",
              "    <tr>\n",
              "      <th>2</th>\n",
              "      <td>Jul 29, 2017</td>\n",
              "      <td>2807.02</td>\n",
              "      <td>2808.76</td>\n",
              "      <td>2692.80</td>\n",
              "      <td>2726.45</td>\n",
              "      <td>803,746,000</td>\n",
              "      <td>46,246,700,000</td>\n",
              "    </tr>\n",
              "    <tr>\n",
              "      <th>3</th>\n",
              "      <td>Jul 28, 2017</td>\n",
              "      <td>2679.73</td>\n",
              "      <td>2897.45</td>\n",
              "      <td>2679.73</td>\n",
              "      <td>2809.01</td>\n",
              "      <td>1,380,100,000</td>\n",
              "      <td>44,144,400,000</td>\n",
              "    </tr>\n",
              "    <tr>\n",
              "      <th>4</th>\n",
              "      <td>Jul 27, 2017</td>\n",
              "      <td>2538.71</td>\n",
              "      <td>2693.32</td>\n",
              "      <td>2529.34</td>\n",
              "      <td>2671.78</td>\n",
              "      <td>789,104,000</td>\n",
              "      <td>41,816,500,000</td>\n",
              "    </tr>\n",
              "    <tr>\n",
              "      <th>...</th>\n",
              "      <td>...</td>\n",
              "      <td>...</td>\n",
              "      <td>...</td>\n",
              "      <td>...</td>\n",
              "      <td>...</td>\n",
              "      <td>...</td>\n",
              "      <td>...</td>\n",
              "    </tr>\n",
              "    <tr>\n",
              "      <th>1551</th>\n",
              "      <td>May 02, 2013</td>\n",
              "      <td>116.38</td>\n",
              "      <td>125.60</td>\n",
              "      <td>92.28</td>\n",
              "      <td>105.21</td>\n",
              "      <td>-</td>\n",
              "      <td>1,292,190,000</td>\n",
              "    </tr>\n",
              "    <tr>\n",
              "      <th>1552</th>\n",
              "      <td>May 01, 2013</td>\n",
              "      <td>139.00</td>\n",
              "      <td>139.89</td>\n",
              "      <td>107.72</td>\n",
              "      <td>116.99</td>\n",
              "      <td>-</td>\n",
              "      <td>1,542,820,000</td>\n",
              "    </tr>\n",
              "    <tr>\n",
              "      <th>1553</th>\n",
              "      <td>Apr 30, 2013</td>\n",
              "      <td>144.00</td>\n",
              "      <td>146.93</td>\n",
              "      <td>134.05</td>\n",
              "      <td>139.00</td>\n",
              "      <td>-</td>\n",
              "      <td>1,597,780,000</td>\n",
              "    </tr>\n",
              "    <tr>\n",
              "      <th>1554</th>\n",
              "      <td>Apr 29, 2013</td>\n",
              "      <td>134.44</td>\n",
              "      <td>147.49</td>\n",
              "      <td>134.00</td>\n",
              "      <td>144.54</td>\n",
              "      <td>-</td>\n",
              "      <td>1,491,160,000</td>\n",
              "    </tr>\n",
              "    <tr>\n",
              "      <th>1555</th>\n",
              "      <td>Apr 28, 2013</td>\n",
              "      <td>135.30</td>\n",
              "      <td>135.98</td>\n",
              "      <td>132.10</td>\n",
              "      <td>134.21</td>\n",
              "      <td>-</td>\n",
              "      <td>1,500,520,000</td>\n",
              "    </tr>\n",
              "  </tbody>\n",
              "</table>\n",
              "<p>1556 rows × 7 columns</p>\n",
              "</div>\n",
              "      <button class=\"colab-df-convert\" onclick=\"convertToInteractive('df-73ad057b-7a27-4d5d-a7ed-195ebe5b9900')\"\n",
              "              title=\"Convert this dataframe to an interactive table.\"\n",
              "              style=\"display:none;\">\n",
              "        \n",
              "  <svg xmlns=\"http://www.w3.org/2000/svg\" height=\"24px\"viewBox=\"0 0 24 24\"\n",
              "       width=\"24px\">\n",
              "    <path d=\"M0 0h24v24H0V0z\" fill=\"none\"/>\n",
              "    <path d=\"M18.56 5.44l.94 2.06.94-2.06 2.06-.94-2.06-.94-.94-2.06-.94 2.06-2.06.94zm-11 1L8.5 8.5l.94-2.06 2.06-.94-2.06-.94L8.5 2.5l-.94 2.06-2.06.94zm10 10l.94 2.06.94-2.06 2.06-.94-2.06-.94-.94-2.06-.94 2.06-2.06.94z\"/><path d=\"M17.41 7.96l-1.37-1.37c-.4-.4-.92-.59-1.43-.59-.52 0-1.04.2-1.43.59L10.3 9.45l-7.72 7.72c-.78.78-.78 2.05 0 2.83L4 21.41c.39.39.9.59 1.41.59.51 0 1.02-.2 1.41-.59l7.78-7.78 2.81-2.81c.8-.78.8-2.07 0-2.86zM5.41 20L4 18.59l7.72-7.72 1.47 1.35L5.41 20z\"/>\n",
              "  </svg>\n",
              "      </button>\n",
              "      \n",
              "  <style>\n",
              "    .colab-df-container {\n",
              "      display:flex;\n",
              "      flex-wrap:wrap;\n",
              "      gap: 12px;\n",
              "    }\n",
              "\n",
              "    .colab-df-convert {\n",
              "      background-color: #E8F0FE;\n",
              "      border: none;\n",
              "      border-radius: 50%;\n",
              "      cursor: pointer;\n",
              "      display: none;\n",
              "      fill: #1967D2;\n",
              "      height: 32px;\n",
              "      padding: 0 0 0 0;\n",
              "      width: 32px;\n",
              "    }\n",
              "\n",
              "    .colab-df-convert:hover {\n",
              "      background-color: #E2EBFA;\n",
              "      box-shadow: 0px 1px 2px rgba(60, 64, 67, 0.3), 0px 1px 3px 1px rgba(60, 64, 67, 0.15);\n",
              "      fill: #174EA6;\n",
              "    }\n",
              "\n",
              "    [theme=dark] .colab-df-convert {\n",
              "      background-color: #3B4455;\n",
              "      fill: #D2E3FC;\n",
              "    }\n",
              "\n",
              "    [theme=dark] .colab-df-convert:hover {\n",
              "      background-color: #434B5C;\n",
              "      box-shadow: 0px 1px 3px 1px rgba(0, 0, 0, 0.15);\n",
              "      filter: drop-shadow(0px 1px 2px rgba(0, 0, 0, 0.3));\n",
              "      fill: #FFFFFF;\n",
              "    }\n",
              "  </style>\n",
              "\n",
              "      <script>\n",
              "        const buttonEl =\n",
              "          document.querySelector('#df-73ad057b-7a27-4d5d-a7ed-195ebe5b9900 button.colab-df-convert');\n",
              "        buttonEl.style.display =\n",
              "          google.colab.kernel.accessAllowed ? 'block' : 'none';\n",
              "\n",
              "        async function convertToInteractive(key) {\n",
              "          const element = document.querySelector('#df-73ad057b-7a27-4d5d-a7ed-195ebe5b9900');\n",
              "          const dataTable =\n",
              "            await google.colab.kernel.invokeFunction('convertToInteractive',\n",
              "                                                     [key], {});\n",
              "          if (!dataTable) return;\n",
              "\n",
              "          const docLinkHtml = 'Like what you see? Visit the ' +\n",
              "            '<a target=\"_blank\" href=https://colab.research.google.com/notebooks/data_table.ipynb>data table notebook</a>'\n",
              "            + ' to learn more about interactive tables.';\n",
              "          element.innerHTML = '';\n",
              "          dataTable['output_type'] = 'display_data';\n",
              "          await google.colab.output.renderOutput(dataTable, element);\n",
              "          const docLink = document.createElement('div');\n",
              "          docLink.innerHTML = docLinkHtml;\n",
              "          element.appendChild(docLink);\n",
              "        }\n",
              "      </script>\n",
              "    </div>\n",
              "  </div>\n",
              "  "
            ]
          },
          "metadata": {},
          "execution_count": 120
        }
      ]
    },
    {
      "cell_type": "markdown",
      "source": [
        "# EDA and Preproccesing"
      ],
      "metadata": {
        "id": "Us-W4G-FGp3k"
      }
    },
    {
      "cell_type": "code",
      "source": [
        "df = df.drop([\"Date\"],axis=1)"
      ],
      "metadata": {
        "id": "e7Vf8GSkq--N"
      },
      "execution_count": 121,
      "outputs": []
    },
    {
      "cell_type": "code",
      "source": [
        "for i in range(len(df.values)):\n",
        "  df.iloc[i,5] = int(df.iloc[i,5].replace(\",\",\"\"))"
      ],
      "metadata": {
        "id": "FBm3P8EevHOr"
      },
      "execution_count": 122,
      "outputs": []
    },
    {
      "cell_type": "code",
      "source": [
        "avg = 0\n",
        "num = 0\n",
        "for i in range(len(df.values)):\n",
        "  if df.iloc[i,4] != '-':\n",
        "    df.iloc[i,4] = int(df.iloc[i,4].replace(\",\",\"\"))\n",
        "    avg += df.iloc[i,4]\n",
        "    num += 1\n",
        "  else:\n",
        "    df.iloc[i,4] = int(avg/num)"
      ],
      "metadata": {
        "id": "h114-hWnrwxC"
      },
      "execution_count": 123,
      "outputs": []
    },
    {
      "cell_type": "code",
      "source": [
        "df"
      ],
      "metadata": {
        "colab": {
          "base_uri": "https://localhost:8080/",
          "height": 423
        },
        "id": "mFc2VnvTyN9T",
        "outputId": "0c74fa86-14aa-4c80-f306-b2a3167ccf00"
      },
      "execution_count": 124,
      "outputs": [
        {
          "output_type": "execute_result",
          "data": {
            "text/plain": [
              "         Open     High      Low    Close      Volume   Market Cap\n",
              "0     2763.24  2889.62  2720.61  2875.34   860575000  45535800000\n",
              "1     2724.39  2758.53  2644.85  2757.18   705943000  44890700000\n",
              "2     2807.02  2808.76  2692.80  2726.45   803746000  46246700000\n",
              "3     2679.73  2897.45  2679.73  2809.01  1380100000  44144400000\n",
              "4     2538.71  2693.32  2529.34  2671.78   789104000  41816500000\n",
              "...       ...      ...      ...      ...         ...          ...\n",
              "1551   116.38   125.60    92.28   105.21   148164250   1292190000\n",
              "1552   139.00   139.89   107.72   116.99   148164250   1542820000\n",
              "1553   144.00   146.93   134.05   139.00   148164250   1597780000\n",
              "1554   134.44   147.49   134.00   144.54   148164250   1491160000\n",
              "1555   135.30   135.98   132.10   134.21   148164250   1500520000\n",
              "\n",
              "[1556 rows x 6 columns]"
            ],
            "text/html": [
              "\n",
              "  <div id=\"df-990e3c9b-16b0-4824-9411-473d0b6e24da\">\n",
              "    <div class=\"colab-df-container\">\n",
              "      <div>\n",
              "<style scoped>\n",
              "    .dataframe tbody tr th:only-of-type {\n",
              "        vertical-align: middle;\n",
              "    }\n",
              "\n",
              "    .dataframe tbody tr th {\n",
              "        vertical-align: top;\n",
              "    }\n",
              "\n",
              "    .dataframe thead th {\n",
              "        text-align: right;\n",
              "    }\n",
              "</style>\n",
              "<table border=\"1\" class=\"dataframe\">\n",
              "  <thead>\n",
              "    <tr style=\"text-align: right;\">\n",
              "      <th></th>\n",
              "      <th>Open</th>\n",
              "      <th>High</th>\n",
              "      <th>Low</th>\n",
              "      <th>Close</th>\n",
              "      <th>Volume</th>\n",
              "      <th>Market Cap</th>\n",
              "    </tr>\n",
              "  </thead>\n",
              "  <tbody>\n",
              "    <tr>\n",
              "      <th>0</th>\n",
              "      <td>2763.24</td>\n",
              "      <td>2889.62</td>\n",
              "      <td>2720.61</td>\n",
              "      <td>2875.34</td>\n",
              "      <td>860575000</td>\n",
              "      <td>45535800000</td>\n",
              "    </tr>\n",
              "    <tr>\n",
              "      <th>1</th>\n",
              "      <td>2724.39</td>\n",
              "      <td>2758.53</td>\n",
              "      <td>2644.85</td>\n",
              "      <td>2757.18</td>\n",
              "      <td>705943000</td>\n",
              "      <td>44890700000</td>\n",
              "    </tr>\n",
              "    <tr>\n",
              "      <th>2</th>\n",
              "      <td>2807.02</td>\n",
              "      <td>2808.76</td>\n",
              "      <td>2692.80</td>\n",
              "      <td>2726.45</td>\n",
              "      <td>803746000</td>\n",
              "      <td>46246700000</td>\n",
              "    </tr>\n",
              "    <tr>\n",
              "      <th>3</th>\n",
              "      <td>2679.73</td>\n",
              "      <td>2897.45</td>\n",
              "      <td>2679.73</td>\n",
              "      <td>2809.01</td>\n",
              "      <td>1380100000</td>\n",
              "      <td>44144400000</td>\n",
              "    </tr>\n",
              "    <tr>\n",
              "      <th>4</th>\n",
              "      <td>2538.71</td>\n",
              "      <td>2693.32</td>\n",
              "      <td>2529.34</td>\n",
              "      <td>2671.78</td>\n",
              "      <td>789104000</td>\n",
              "      <td>41816500000</td>\n",
              "    </tr>\n",
              "    <tr>\n",
              "      <th>...</th>\n",
              "      <td>...</td>\n",
              "      <td>...</td>\n",
              "      <td>...</td>\n",
              "      <td>...</td>\n",
              "      <td>...</td>\n",
              "      <td>...</td>\n",
              "    </tr>\n",
              "    <tr>\n",
              "      <th>1551</th>\n",
              "      <td>116.38</td>\n",
              "      <td>125.60</td>\n",
              "      <td>92.28</td>\n",
              "      <td>105.21</td>\n",
              "      <td>148164250</td>\n",
              "      <td>1292190000</td>\n",
              "    </tr>\n",
              "    <tr>\n",
              "      <th>1552</th>\n",
              "      <td>139.00</td>\n",
              "      <td>139.89</td>\n",
              "      <td>107.72</td>\n",
              "      <td>116.99</td>\n",
              "      <td>148164250</td>\n",
              "      <td>1542820000</td>\n",
              "    </tr>\n",
              "    <tr>\n",
              "      <th>1553</th>\n",
              "      <td>144.00</td>\n",
              "      <td>146.93</td>\n",
              "      <td>134.05</td>\n",
              "      <td>139.00</td>\n",
              "      <td>148164250</td>\n",
              "      <td>1597780000</td>\n",
              "    </tr>\n",
              "    <tr>\n",
              "      <th>1554</th>\n",
              "      <td>134.44</td>\n",
              "      <td>147.49</td>\n",
              "      <td>134.00</td>\n",
              "      <td>144.54</td>\n",
              "      <td>148164250</td>\n",
              "      <td>1491160000</td>\n",
              "    </tr>\n",
              "    <tr>\n",
              "      <th>1555</th>\n",
              "      <td>135.30</td>\n",
              "      <td>135.98</td>\n",
              "      <td>132.10</td>\n",
              "      <td>134.21</td>\n",
              "      <td>148164250</td>\n",
              "      <td>1500520000</td>\n",
              "    </tr>\n",
              "  </tbody>\n",
              "</table>\n",
              "<p>1556 rows × 6 columns</p>\n",
              "</div>\n",
              "      <button class=\"colab-df-convert\" onclick=\"convertToInteractive('df-990e3c9b-16b0-4824-9411-473d0b6e24da')\"\n",
              "              title=\"Convert this dataframe to an interactive table.\"\n",
              "              style=\"display:none;\">\n",
              "        \n",
              "  <svg xmlns=\"http://www.w3.org/2000/svg\" height=\"24px\"viewBox=\"0 0 24 24\"\n",
              "       width=\"24px\">\n",
              "    <path d=\"M0 0h24v24H0V0z\" fill=\"none\"/>\n",
              "    <path d=\"M18.56 5.44l.94 2.06.94-2.06 2.06-.94-2.06-.94-.94-2.06-.94 2.06-2.06.94zm-11 1L8.5 8.5l.94-2.06 2.06-.94-2.06-.94L8.5 2.5l-.94 2.06-2.06.94zm10 10l.94 2.06.94-2.06 2.06-.94-2.06-.94-.94-2.06-.94 2.06-2.06.94z\"/><path d=\"M17.41 7.96l-1.37-1.37c-.4-.4-.92-.59-1.43-.59-.52 0-1.04.2-1.43.59L10.3 9.45l-7.72 7.72c-.78.78-.78 2.05 0 2.83L4 21.41c.39.39.9.59 1.41.59.51 0 1.02-.2 1.41-.59l7.78-7.78 2.81-2.81c.8-.78.8-2.07 0-2.86zM5.41 20L4 18.59l7.72-7.72 1.47 1.35L5.41 20z\"/>\n",
              "  </svg>\n",
              "      </button>\n",
              "      \n",
              "  <style>\n",
              "    .colab-df-container {\n",
              "      display:flex;\n",
              "      flex-wrap:wrap;\n",
              "      gap: 12px;\n",
              "    }\n",
              "\n",
              "    .colab-df-convert {\n",
              "      background-color: #E8F0FE;\n",
              "      border: none;\n",
              "      border-radius: 50%;\n",
              "      cursor: pointer;\n",
              "      display: none;\n",
              "      fill: #1967D2;\n",
              "      height: 32px;\n",
              "      padding: 0 0 0 0;\n",
              "      width: 32px;\n",
              "    }\n",
              "\n",
              "    .colab-df-convert:hover {\n",
              "      background-color: #E2EBFA;\n",
              "      box-shadow: 0px 1px 2px rgba(60, 64, 67, 0.3), 0px 1px 3px 1px rgba(60, 64, 67, 0.15);\n",
              "      fill: #174EA6;\n",
              "    }\n",
              "\n",
              "    [theme=dark] .colab-df-convert {\n",
              "      background-color: #3B4455;\n",
              "      fill: #D2E3FC;\n",
              "    }\n",
              "\n",
              "    [theme=dark] .colab-df-convert:hover {\n",
              "      background-color: #434B5C;\n",
              "      box-shadow: 0px 1px 3px 1px rgba(0, 0, 0, 0.15);\n",
              "      filter: drop-shadow(0px 1px 2px rgba(0, 0, 0, 0.3));\n",
              "      fill: #FFFFFF;\n",
              "    }\n",
              "  </style>\n",
              "\n",
              "      <script>\n",
              "        const buttonEl =\n",
              "          document.querySelector('#df-990e3c9b-16b0-4824-9411-473d0b6e24da button.colab-df-convert');\n",
              "        buttonEl.style.display =\n",
              "          google.colab.kernel.accessAllowed ? 'block' : 'none';\n",
              "\n",
              "        async function convertToInteractive(key) {\n",
              "          const element = document.querySelector('#df-990e3c9b-16b0-4824-9411-473d0b6e24da');\n",
              "          const dataTable =\n",
              "            await google.colab.kernel.invokeFunction('convertToInteractive',\n",
              "                                                     [key], {});\n",
              "          if (!dataTable) return;\n",
              "\n",
              "          const docLinkHtml = 'Like what you see? Visit the ' +\n",
              "            '<a target=\"_blank\" href=https://colab.research.google.com/notebooks/data_table.ipynb>data table notebook</a>'\n",
              "            + ' to learn more about interactive tables.';\n",
              "          element.innerHTML = '';\n",
              "          dataTable['output_type'] = 'display_data';\n",
              "          await google.colab.output.renderOutput(dataTable, element);\n",
              "          const docLink = document.createElement('div');\n",
              "          docLink.innerHTML = docLinkHtml;\n",
              "          element.appendChild(docLink);\n",
              "        }\n",
              "      </script>\n",
              "    </div>\n",
              "  </div>\n",
              "  "
            ]
          },
          "metadata": {},
          "execution_count": 124
        }
      ]
    },
    {
      "cell_type": "code",
      "source": [
        "df.corr()"
      ],
      "metadata": {
        "colab": {
          "base_uri": "https://localhost:8080/",
          "height": 174
        },
        "id": "8tRtMb0P0bQw",
        "outputId": "959f9e01-3e25-48c0-a73c-8858bd55ccf9"
      },
      "execution_count": 125,
      "outputs": [
        {
          "output_type": "execute_result",
          "data": {
            "text/plain": [
              "           Open      High       Low     Close\n",
              "Open   1.000000  0.998561  0.998157  0.997514\n",
              "High   0.998561  1.000000  0.997320  0.998596\n",
              "Low    0.998157  0.997320  1.000000  0.998755\n",
              "Close  0.997514  0.998596  0.998755  1.000000"
            ],
            "text/html": [
              "\n",
              "  <div id=\"df-63a98a2e-beb4-4a61-a8dd-1d896b6658a6\">\n",
              "    <div class=\"colab-df-container\">\n",
              "      <div>\n",
              "<style scoped>\n",
              "    .dataframe tbody tr th:only-of-type {\n",
              "        vertical-align: middle;\n",
              "    }\n",
              "\n",
              "    .dataframe tbody tr th {\n",
              "        vertical-align: top;\n",
              "    }\n",
              "\n",
              "    .dataframe thead th {\n",
              "        text-align: right;\n",
              "    }\n",
              "</style>\n",
              "<table border=\"1\" class=\"dataframe\">\n",
              "  <thead>\n",
              "    <tr style=\"text-align: right;\">\n",
              "      <th></th>\n",
              "      <th>Open</th>\n",
              "      <th>High</th>\n",
              "      <th>Low</th>\n",
              "      <th>Close</th>\n",
              "    </tr>\n",
              "  </thead>\n",
              "  <tbody>\n",
              "    <tr>\n",
              "      <th>Open</th>\n",
              "      <td>1.000000</td>\n",
              "      <td>0.998561</td>\n",
              "      <td>0.998157</td>\n",
              "      <td>0.997514</td>\n",
              "    </tr>\n",
              "    <tr>\n",
              "      <th>High</th>\n",
              "      <td>0.998561</td>\n",
              "      <td>1.000000</td>\n",
              "      <td>0.997320</td>\n",
              "      <td>0.998596</td>\n",
              "    </tr>\n",
              "    <tr>\n",
              "      <th>Low</th>\n",
              "      <td>0.998157</td>\n",
              "      <td>0.997320</td>\n",
              "      <td>1.000000</td>\n",
              "      <td>0.998755</td>\n",
              "    </tr>\n",
              "    <tr>\n",
              "      <th>Close</th>\n",
              "      <td>0.997514</td>\n",
              "      <td>0.998596</td>\n",
              "      <td>0.998755</td>\n",
              "      <td>1.000000</td>\n",
              "    </tr>\n",
              "  </tbody>\n",
              "</table>\n",
              "</div>\n",
              "      <button class=\"colab-df-convert\" onclick=\"convertToInteractive('df-63a98a2e-beb4-4a61-a8dd-1d896b6658a6')\"\n",
              "              title=\"Convert this dataframe to an interactive table.\"\n",
              "              style=\"display:none;\">\n",
              "        \n",
              "  <svg xmlns=\"http://www.w3.org/2000/svg\" height=\"24px\"viewBox=\"0 0 24 24\"\n",
              "       width=\"24px\">\n",
              "    <path d=\"M0 0h24v24H0V0z\" fill=\"none\"/>\n",
              "    <path d=\"M18.56 5.44l.94 2.06.94-2.06 2.06-.94-2.06-.94-.94-2.06-.94 2.06-2.06.94zm-11 1L8.5 8.5l.94-2.06 2.06-.94-2.06-.94L8.5 2.5l-.94 2.06-2.06.94zm10 10l.94 2.06.94-2.06 2.06-.94-2.06-.94-.94-2.06-.94 2.06-2.06.94z\"/><path d=\"M17.41 7.96l-1.37-1.37c-.4-.4-.92-.59-1.43-.59-.52 0-1.04.2-1.43.59L10.3 9.45l-7.72 7.72c-.78.78-.78 2.05 0 2.83L4 21.41c.39.39.9.59 1.41.59.51 0 1.02-.2 1.41-.59l7.78-7.78 2.81-2.81c.8-.78.8-2.07 0-2.86zM5.41 20L4 18.59l7.72-7.72 1.47 1.35L5.41 20z\"/>\n",
              "  </svg>\n",
              "      </button>\n",
              "      \n",
              "  <style>\n",
              "    .colab-df-container {\n",
              "      display:flex;\n",
              "      flex-wrap:wrap;\n",
              "      gap: 12px;\n",
              "    }\n",
              "\n",
              "    .colab-df-convert {\n",
              "      background-color: #E8F0FE;\n",
              "      border: none;\n",
              "      border-radius: 50%;\n",
              "      cursor: pointer;\n",
              "      display: none;\n",
              "      fill: #1967D2;\n",
              "      height: 32px;\n",
              "      padding: 0 0 0 0;\n",
              "      width: 32px;\n",
              "    }\n",
              "\n",
              "    .colab-df-convert:hover {\n",
              "      background-color: #E2EBFA;\n",
              "      box-shadow: 0px 1px 2px rgba(60, 64, 67, 0.3), 0px 1px 3px 1px rgba(60, 64, 67, 0.15);\n",
              "      fill: #174EA6;\n",
              "    }\n",
              "\n",
              "    [theme=dark] .colab-df-convert {\n",
              "      background-color: #3B4455;\n",
              "      fill: #D2E3FC;\n",
              "    }\n",
              "\n",
              "    [theme=dark] .colab-df-convert:hover {\n",
              "      background-color: #434B5C;\n",
              "      box-shadow: 0px 1px 3px 1px rgba(0, 0, 0, 0.15);\n",
              "      filter: drop-shadow(0px 1px 2px rgba(0, 0, 0, 0.3));\n",
              "      fill: #FFFFFF;\n",
              "    }\n",
              "  </style>\n",
              "\n",
              "      <script>\n",
              "        const buttonEl =\n",
              "          document.querySelector('#df-63a98a2e-beb4-4a61-a8dd-1d896b6658a6 button.colab-df-convert');\n",
              "        buttonEl.style.display =\n",
              "          google.colab.kernel.accessAllowed ? 'block' : 'none';\n",
              "\n",
              "        async function convertToInteractive(key) {\n",
              "          const element = document.querySelector('#df-63a98a2e-beb4-4a61-a8dd-1d896b6658a6');\n",
              "          const dataTable =\n",
              "            await google.colab.kernel.invokeFunction('convertToInteractive',\n",
              "                                                     [key], {});\n",
              "          if (!dataTable) return;\n",
              "\n",
              "          const docLinkHtml = 'Like what you see? Visit the ' +\n",
              "            '<a target=\"_blank\" href=https://colab.research.google.com/notebooks/data_table.ipynb>data table notebook</a>'\n",
              "            + ' to learn more about interactive tables.';\n",
              "          element.innerHTML = '';\n",
              "          dataTable['output_type'] = 'display_data';\n",
              "          await google.colab.output.renderOutput(dataTable, element);\n",
              "          const docLink = document.createElement('div');\n",
              "          docLink.innerHTML = docLinkHtml;\n",
              "          element.appendChild(docLink);\n",
              "        }\n",
              "      </script>\n",
              "    </div>\n",
              "  </div>\n",
              "  "
            ]
          },
          "metadata": {},
          "execution_count": 125
        }
      ]
    },
    {
      "cell_type": "code",
      "source": [
        "import seaborn as sns\n",
        "plt.figure(figsize=[10,7])\n",
        "sns.heatmap(df.corr().round(2),annot=True)"
      ],
      "metadata": {
        "colab": {
          "base_uri": "https://localhost:8080/",
          "height": 450
        },
        "id": "i2hL_3U3zh8I",
        "outputId": "c1e57854-17f1-4318-e60e-c664fb0db177"
      },
      "execution_count": 126,
      "outputs": [
        {
          "output_type": "execute_result",
          "data": {
            "text/plain": [
              "<matplotlib.axes._subplots.AxesSubplot at 0x7efc59e14e90>"
            ]
          },
          "metadata": {},
          "execution_count": 126
        },
        {
          "output_type": "display_data",
          "data": {
            "text/plain": [
              "<Figure size 720x504 with 2 Axes>"
            ],
            "image/png": "[encoded data removed]"
          },
          "metadata": {
            "needs_background": "light"
          }
        }
      ]
    },
    {
      "cell_type": "code",
      "source": [
        "features = np.array(df.columns)\n",
        "for f in features :\n",
        "    plt.figure(figsize=(15,4))\n",
        "    plt.hist( df[f],bins = 40) ; \n",
        "    plt.title(\"{}\\'s distribution\".format(f))"
      ],
      "metadata": {
        "colab": {
          "base_uri": "https://localhost:8080/",
          "height": 1000
        },
        "id": "524sCVEs7Gcy",
        "outputId": "7503d00d-1386-4efa-b14a-fa0f3acd6f1d"
      },
      "execution_count": 127,
      "outputs": [
        {
          "output_type": "display_data",
          "data": {
            "text/plain": [
              "<Figure size 1080x288 with 1 Axes>"
            ],
            "image/png": "[encoded data removed]"
          },
          "metadata": {
            "needs_background": "light"
          }
        },
        {
          "output_type": "display_data",
          "data": {
            "text/plain": [
              "<Figure size 1080x288 with 1 Axes>"
            ],
            "image/png": "[encoded data removed]"
          },
          "metadata": {
            "needs_background": "light"
          }
        },
        {
          "output_type": "display_data",
          "data": {
            "text/plain": [
              "<Figure size 1080x288 with 1 Axes>"
            ],
            "image/png": "[encoded data removed]"
          },
          "metadata": {
            "needs_background": "light"
          }
        },
        {
          "output_type": "display_data",
          "data": {
            "text/plain": [
              "<Figure size 1080x288 with 1 Axes>"
            ],
            "image/png": "[encoded data removed]"
          },
          "metadata": {
            "needs_background": "light"
          }
        },
        {
          "output_type": "display_data",
          "data": {
            "text/plain": [
              "<Figure size 1080x288 with 1 Axes>"
            ],
            "image/png": "[encoded data removed]"
          },
          "metadata": {
            "needs_background": "light"
          }
        },
        {
          "output_type": "display_data",
          "data": {
            "text/plain": [
              "<Figure size 1080x288 with 1 Axes>"
            ],
            "image/png": "[encoded data removed]"
          },
          "metadata": {
            "needs_background": "light"
          }
        }
      ]
    },
    {
      "cell_type": "markdown",
      "source": [
        "# Splitting the Data"
      ],
      "metadata": {
        "id": "c90azNUPGwfc"
      }
    },
    {
      "cell_type": "code",
      "source": [
        "from sklearn.model_selection import train_test_split as tts\n",
        "y = df[[\"Close\"]]\n",
        "X = df.drop([\"Close\"],axis=1)\n",
        "X_train,X_test,y_train,y_test = tts(X.values,y.values.ravel(),test_size=0.2)"
      ],
      "metadata": {
        "id": "xXgxBL-HydqS"
      },
      "execution_count": 128,
      "outputs": []
    },
    {
      "cell_type": "markdown",
      "source": [
        "# Choosing various models"
      ],
      "metadata": {
        "id": "AUx5C7eKG0Ue"
      }
    },
    {
      "cell_type": "code",
      "source": [
        "from sklearn.linear_model import LinearRegression\n",
        "lr = LinearRegression()\n",
        "lr.fit(X_train,y_train)\n",
        "pred_lr = lr.predict(X_test)\n",
        "print(\"The R2_score of Linear Regression is\",r2_score(y_test,pred_lr))\n",
        "print(\"The Mean Squared Error of Linear Regression is\",mse(y_test,pred_lr))\n",
        "print(\"The Mean absolute Error of Linear Regression is\",mae(y_test,pred_lr))"
      ],
      "metadata": {
        "colab": {
          "base_uri": "https://localhost:8080/"
        },
        "id": "Q_3lXWwc9yDK",
        "outputId": "94c9cf84-a516-4695-8833-f09e50414eeb"
      },
      "execution_count": 129,
      "outputs": [
        {
          "output_type": "stream",
          "name": "stdout",
          "text": [
            "The R2_score of Linear Regression is 0.9994022989681755\n",
            "The Mean Squared Error of Linear Regression is 160.14620847351168\n",
            "The Mean absolute Error of Linear Regression is 6.439625713055873\n"
          ]
        }
      ]
    },
    {
      "cell_type": "code",
      "source": [
        "from lightgbm import LGBMRegressor\n",
        "lgr = LGBMRegressor()\n",
        "lgr.fit(X_train,y_train)\n",
        "pred_lgr = lgr.predict(X_test)\n",
        "print(\"The R2_score of LGBMRegressor is\",r2_score(y_test,pred_lgr))\n",
        "print(\"The Mean Squared Error of LGBMRegressor is\",mse(y_test,pred_lgr))\n",
        "print(\"The Mean absolute Error of LGBMRegressor is\",mae(y_test,pred_lgr))"
      ],
      "metadata": {
        "colab": {
          "base_uri": "https://localhost:8080/"
        },
        "id": "lxUB250i_z8n",
        "outputId": "46033fd3-d2e7-47c3-d110-c993dca09cfa"
      },
      "execution_count": 130,
      "outputs": [
        {
          "output_type": "stream",
          "name": "stdout",
          "text": [
            "The R2_score of LGBMRegressor is 0.9972175129550221\n",
            "The Mean Squared Error of LGBMRegressor is 745.5311713611104\n",
            "The Mean absolute Error of LGBMRegressor is 11.473095205477575\n"
          ]
        }
      ]
    },
    {
      "cell_type": "code",
      "source": [
        "from sklearn.svm import SVR\n",
        "sv = SVR()\n",
        "sv.fit(X_train,y_train)\n",
        "pred_sv = sv.predict(X_test)\n",
        "print(\"The R2_score of SVR is\",r2_score(y_test,pred_sv))\n",
        "print(\"The Mean Squared Error of SVR is\",mse(y_test,pred_sv))\n",
        "print(\"The Mean absolute Error of SVR is\",mae(y_test,pred_sv))"
      ],
      "metadata": {
        "colab": {
          "base_uri": "https://localhost:8080/"
        },
        "id": "iqp4pO4GAxUp",
        "outputId": "c6440419-626c-412f-f7c1-aeac496bc796"
      },
      "execution_count": 131,
      "outputs": [
        {
          "output_type": "stream",
          "name": "stdout",
          "text": [
            "The R2_score of SVR is 0.25329763995745125\n",
            "The Mean Squared Error of SVR is 200069.1741388019\n",
            "The Mean absolute Error of SVR is 206.2860294405424\n"
          ]
        }
      ]
    },
    {
      "cell_type": "code",
      "source": [
        "from sklearn.neighbors import KNeighborsRegressor\n",
        "knr = KNeighborsRegressor()\n",
        "knr.fit(X_train,y_train)\n",
        "pred_knr = knr.predict(X_test)\n",
        "print(\"The R2_score of K-Neighbors Regressor is\",r2_score(y_test,pred_knr))\n",
        "print(\"The Mean Squared Error of K-Neighbors Regressor is\",mse(y_test,pred_knr))\n",
        "print(\"The Mean absolute Error of K-Neighbors Regressor is\",mae(y_test,pred_knr))"
      ],
      "metadata": {
        "id": "UE8jvTQ2G7EK",
        "colab": {
          "base_uri": "https://localhost:8080/"
        },
        "outputId": "b9c861d0-3b63-4b98-9226-da22cf8c4ebc"
      },
      "execution_count": 132,
      "outputs": [
        {
          "output_type": "stream",
          "name": "stdout",
          "text": [
            "The R2_score of K-Neighbors Regressor is 0.9882402145702277\n",
            "The Mean Squared Error of K-Neighbors Regressor is 3150.8813750769236\n",
            "The Mean absolute Error of K-Neighbors Regressor is 30.247769230769237\n"
          ]
        }
      ]
    },
    {
      "cell_type": "markdown",
      "source": [
        "# Hyper Parameter Tuning"
      ],
      "metadata": {
        "id": "Xvlk3dE34PB0"
      }
    },
    {
      "cell_type": "markdown",
      "source": [
        "### For LGBM Regressor"
      ],
      "metadata": {
        "id": "-jMmr1p15NQN"
      }
    },
    {
      "cell_type": "code",
      "source": [
        "btype = [\"gbdt\",\"dart\",\"goss\"]\n",
        "nest = [100,300,700,900,1000]\n",
        "btb = \"\"\n",
        "nb = 0\n",
        "rb = 0\n",
        "for i in btype:\n",
        "  for j in nest:\n",
        "    lgr = LGBMRegressor(boosting_type=i,n_estimators=j)\n",
        "    lgr.fit(X_train,y_train)\n",
        "    pred_lgr = lgr.predict(X_test)\n",
        "    if r2_score(y_test,pred_lgr) > rb:\n",
        "      rb = r2_score(y_test,pred_lgr)\n",
        "      btb = i\n",
        "      nb = j\n",
        "print(\"The best boosting type is\",btb)\n",
        "print(\"The optimal n_estimators values\",nb)\n",
        "print(\"The best R2 score is\",rb)"
      ],
      "metadata": {
        "colab": {
          "base_uri": "https://localhost:8080/"
        },
        "id": "0Xo8wFLG4Too",
        "outputId": "63077b99-5924-4e68-93db-fc4ad2a14e12"
      },
      "execution_count": 133,
      "outputs": [
        {
          "output_type": "stream",
          "name": "stdout",
          "text": [
            "The best boosting type is gbdt\n",
            "The optimal n_estimators values 100\n",
            "The best R2 score is 0.9972175129550221\n"
          ]
        }
      ]
    },
    {
      "cell_type": "markdown",
      "source": [
        "### For SVR"
      ],
      "metadata": {
        "id": "egghmwdoCJql"
      }
    },
    {
      "cell_type": "code",
      "source": [
        "c = [1,10,100,1000,10000]\n",
        "cb = 0\n",
        "rb = 0\n",
        "for i in c:\n",
        "  sv = SVR(C=i)\n",
        "  sv.fit(X_train,y_train)\n",
        "  pred_sv = sv.predict(X_test)\n",
        "  if r2_score(y_test,pred_sv) > rb:\n",
        "    rb = r2_score(y_test,pred_sv)\n",
        "    cb = i\n",
        "print(\"The best C value is\",cb)\n",
        "print(\"The best R2 score is\",rb)"
      ],
      "metadata": {
        "colab": {
          "base_uri": "https://localhost:8080/"
        },
        "id": "uioivnPT8QsF",
        "outputId": "b5f9d7e3-deaa-48ba-c897-eaf5ac23b6b0"
      },
      "execution_count": 134,
      "outputs": [
        {
          "output_type": "stream",
          "name": "stdout",
          "text": [
            "The best C value is 10000\n",
            "The best R2 score is 0.9875588581164443\n"
          ]
        }
      ]
    },
    {
      "cell_type": "markdown",
      "source": [
        "### For K-Neighbors Regressor"
      ],
      "metadata": {
        "id": "0fXmIYpTCNrz"
      }
    },
    {
      "cell_type": "code",
      "source": [
        "kn = [2,6,8,12,14,18]\n",
        "wei = ['uniform','distance']\n",
        "algo = ['auto', 'ball_tree', 'kd_tree', 'brute']\n",
        "kb = 0\n",
        "wb = \"\"\n",
        "ab = \"\"\n",
        "rb = 0\n",
        "for i in kn:\n",
        "  for j in wei:\n",
        "    for k in algo:\n",
        "      knr = KNeighborsRegressor(n_neighbors=i,weights=j,algorithm=k)\n",
        "      knr.fit(X_train,y_train)\n",
        "      pred_knr = knr.predict(X_test)\n",
        "      if r2_score(y_test,pred_knr) > rb:\n",
        "        rb = r2_score(y_test,pred_knr)\n",
        "        kb = i\n",
        "        wb = j\n",
        "        ab = k\n",
        "print(\"The best n_neighbors value is\",kb)\n",
        "print(\"The best weight value is\",wb)\n",
        "print(\"The best algorithm value is\",ab)\n",
        "print(\"The best R2 score is\",rb)"
      ],
      "metadata": {
        "colab": {
          "base_uri": "https://localhost:8080/"
        },
        "id": "t3hpPTFcAnjx",
        "outputId": "c921f169-f837-4c10-da02-9aaddd6635e4"
      },
      "execution_count": 135,
      "outputs": [
        {
          "output_type": "stream",
          "name": "stdout",
          "text": [
            "The best n_neighbors value is 14\n",
            "The best weight value is distance\n",
            "The best algorithm value is auto\n",
            "The best R2 score is 0.9892942725974725\n"
          ]
        }
      ]
    },
    {
      "cell_type": "markdown",
      "source": [
        "# Training the models with the best parameters"
      ],
      "metadata": {
        "id": "1c0bj2RYChJp"
      }
    },
    {
      "cell_type": "code",
      "source": [
        "models = [\"Linear Regression\",\"LGBM Regressor\",\"SV Regressor\",\"K-Neighbors Regressor\"]\n",
        "r2sc = []\n",
        "msec = []\n",
        "maec = []\n",
        "\n",
        "lr = LinearRegression()\n",
        "lr.fit(X_train,y_train)\n",
        "pred_lr = lr.predict(X_test)\n",
        "r2sc.append(r2_score(y_test,pred_lr))\n",
        "msec.append(mse(y_test,pred_lr))\n",
        "maec.append(mae(y_test,pred_lr))\n",
        "\n",
        "lgr = LGBMRegressor(boosting_type=btb,n_estimators=nb)\n",
        "lgr.fit(X_train,y_train)\n",
        "pred_lgr = lgr.predict(X_test)\n",
        "r2sc.append(r2_score(y_test,pred_lgr))\n",
        "msec.append(mse(y_test,pred_lgr))\n",
        "maec.append(mae(y_test,pred_lgr))\n",
        "\n",
        "sv = SVR(C=cb)\n",
        "sv.fit(X_train,y_train)\n",
        "pred_sv = sv.predict(X_test)\n",
        "r2sc.append(r2_score(y_test,pred_sv))\n",
        "msec.append(mse(y_test,pred_sv))\n",
        "maec.append(mae(y_test,pred_sv))\n",
        "\n",
        "knr = KNeighborsRegressor(n_neighbors=kb,weights=wb,algorithm=ab)\n",
        "knr.fit(X_train,y_train)\n",
        "pred_knr = knr.predict(X_test)\n",
        "r2sc.append(r2_score(y_test,pred_knr))\n",
        "msec.append(mse(y_test,pred_knr))\n",
        "maec.append(mae(y_test,pred_knr))"
      ],
      "metadata": {
        "id": "nr2rXabdCp2N"
      },
      "execution_count": 136,
      "outputs": []
    },
    {
      "cell_type": "code",
      "source": [
        "from tabulate import tabulate\n",
        "header = [\"Models\",\"R2 score\",\"MSE  \",\"MAE  \"]\n",
        "print(tabulate(list(zip(models,r2sc,msec,maec)), header, tablefmt=\"grid\"))"
      ],
      "metadata": {
        "colab": {
          "base_uri": "https://localhost:8080/"
        },
        "id": "GfXVY2xeOGu4",
        "outputId": "6370575c-f371-483b-9671-d9d86f9d847a"
      },
      "execution_count": 137,
      "outputs": [
        {
          "output_type": "stream",
          "name": "stdout",
          "text": [
            "+-----------------------+------------+----------+----------+\n",
            "| Models                |   R2 score |    MSE   |    MAE   |\n",
            "+=======================+============+==========+==========+\n",
            "| Linear Regression     |   0.999402 |  160.146 |  6.43963 |\n",
            "+-----------------------+------------+----------+----------+\n",
            "| LGBM Regressor        |   0.997218 |  745.531 | 11.4731  |\n",
            "+-----------------------+------------+----------+----------+\n",
            "| SV Regressor          |   0.987559 | 3333.44  | 34.7399  |\n",
            "+-----------------------+------------+----------+----------+\n",
            "| K-Neighbors Regressor |   0.989294 | 2868.46  | 30.2611  |\n",
            "+-----------------------+------------+----------+----------+\n"
          ]
        }
      ]
    },
    {
      "cell_type": "markdown",
      "source": [
        "# Overall Best Model"
      ],
      "metadata": {
        "id": "3t6twfe_TCVU"
      }
    },
    {
      "cell_type": "code",
      "source": [
        "lr = LinearRegression()\n",
        "lr.fit(X.values,y.values.ravel())\n",
        "pred_lr = lr.predict(X.values)\n",
        "\n",
        "plt.figure(figsize=[24,8])\n",
        "plt.plot(pred_lr,color='red',linestyle='dashed',linewidth=3,label=\"Predicted\")\n",
        "plt.plot(y.values.ravel(),color='blue',linewidth=3,linestyle='dashed',label=\"Real values\")\n",
        "plt.ylabel(\"Bitcoin Price\")\n",
        "plt.legend(loc='upper right', shadow=True, fontsize='x-large')\n",
        "plt.show()"
      ],
      "metadata": {
        "colab": {
          "base_uri": "https://localhost:8080/",
          "height": 483
        },
        "id": "3CVyzpfzTFDl",
        "outputId": "6b117f0f-3af0-4672-d169-ac768b902a69"
      },
      "execution_count": 177,
      "outputs": [
        {
          "output_type": "display_data",
          "data": {
            "text/plain": [
              "<Figure size 1728x576 with 1 Axes>"
            ],
            "image/png": "[encoded data removed]"
          },
          "metadata": {
            "needs_background": "light"
          }
        }
      ]
    }
  ]
}